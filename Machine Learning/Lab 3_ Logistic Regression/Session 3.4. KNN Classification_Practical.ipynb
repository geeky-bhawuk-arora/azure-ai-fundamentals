{
 "cells": [
  {
   "cell_type": "markdown",
   "metadata": {
    "button": false,
    "id": "4n3Eb9aGG6Nf",
    "new_sheet": false,
    "run_control": {
     "read_only": false
    }
   },
   "source": [
    "<h1><center>K-Nearest Neighbors</center></h1>"
   ]
  },
  {
   "cell_type": "markdown",
   "metadata": {
    "button": false,
    "id": "4j1iHTH5G6Nj",
    "new_sheet": false,
    "run_control": {
     "read_only": false
    }
   },
   "source": [
    "In this Lab you will load a customer dataset, fit the data, and use K-Nearest Neighbors to predict a data point. But what is **K-Nearest Neighbors**?"
   ]
  },
  {
   "cell_type": "markdown",
   "metadata": {
    "button": false,
    "id": "DPoEFfPhG6Nm",
    "new_sheet": false,
    "run_control": {
     "read_only": false
    }
   },
   "source": [
    "**K-Nearest Neighbors** is an algorithm for supervised learning. Where the data is 'trained' with data points corresponding to their classification. Once a point is to be predicted, it takes into account the 'K' nearest points to it to determine it's classification."
   ]
  },
  {
   "cell_type": "markdown",
   "metadata": {
    "button": false,
    "id": "bAiv2AACG6No",
    "new_sheet": false,
    "run_control": {
     "read_only": false
    }
   },
   "source": [
    "### Here's an visualization of the K-Nearest Neighbors algorithm.\n",
    "\n",
    "<img src=\"https://ibm.box.com/shared/static/mgkn92xck0z05v7yjq8pqziukxvc2461.png\">"
   ]
  },
  {
   "cell_type": "markdown",
   "metadata": {
    "button": false,
    "id": "06dPFTn6G6Nr",
    "new_sheet": false,
    "run_control": {
     "read_only": false
    }
   },
   "source": [
    "In this case, we have data points of Class A and B. We want to predict what the star (test data point) is. If we consider a k value of 3 (3 nearest data points) we will obtain a prediction of Class B. Yet if we consider a k value of 6, we will obtain a prediction of Class A."
   ]
  },
  {
   "cell_type": "markdown",
   "metadata": {
    "button": false,
    "id": "8YZ5PB2nG6Ns",
    "new_sheet": false,
    "run_control": {
     "read_only": false
    }
   },
   "source": [
    "In this sense, it is important to consider the value of k. But hopefully from this diagram, you should get a sense of what the K-Nearest Neighbors algorithm is. It considers the 'K' Nearest Neighbors (points) when it predicts the classification of the test point."
   ]
  },
  {
   "cell_type": "markdown",
   "metadata": {
    "id": "fo_w7h4OG6Nu"
   },
   "source": [
    "<h1>Table of contents</h1>\n",
    "\n",
    "<div class=\"alert alert-block alert-info\" style=\"margin-top: 20px\">\n",
    "    <ol>\n",
    "        <li><a href=\"#about_dataset\">About the dataset</a></li>\n",
    "        <li><a href=\"#visualization_analysis\">Data Visualization and Analysis</a></li>\n",
    "        <li><a href=\"#classification\">Classification</a></li>\n",
    "    </ol>\n",
    "</div>\n",
    "<br>\n",
    "<hr>"
   ]
  },
  {
   "cell_type": "markdown",
   "metadata": {
    "button": false,
    "id": "BDZNHF3uG6Nv",
    "new_sheet": false,
    "run_control": {
     "read_only": false
    }
   },
   "source": [
    "Lets load required libraries"
   ]
  },
  {
   "cell_type": "code",
   "execution_count": 2,
   "metadata": {
    "button": false,
    "execution": {
     "iopub.execute_input": "2022-11-17T14:45:11.052211Z",
     "iopub.status.busy": "2022-11-17T14:45:11.051645Z",
     "iopub.status.idle": "2022-11-17T14:45:12.026836Z",
     "shell.execute_reply": "2022-11-17T14:45:12.025810Z",
     "shell.execute_reply.started": "2022-11-17T14:45:11.052176Z"
    },
    "id": "P29WhogXG6Nx",
    "new_sheet": false,
    "run_control": {
     "read_only": false
    }
   },
   "outputs": [],
   "source": [
    "import itertools\n",
    "import numpy as np\n",
    "import matplotlib.pyplot as plt\n",
    "from matplotlib.ticker import NullFormatter\n",
    "import pandas as pd\n",
    "import numpy as np\n",
    "import matplotlib.ticker as ticker\n",
    "from sklearn import preprocessing\n",
    "from sklearn.preprocessing import StandardScaler\n",
    "from sklearn.pipeline import Pipeline\n",
    "from sklearn.preprocessing import PolynomialFeatures\n",
    "import seaborn as sns\n",
    "%matplotlib inline"
   ]
  },
  {
   "cell_type": "markdown",
   "metadata": {
    "button": false,
    "id": "kK_6f5eIG6N1",
    "new_sheet": false,
    "run_control": {
     "read_only": false
    }
   },
   "source": [
    "<div id=\"about_dataset\">\n",
    "    <h2>About the dataset</h2>\n",
    "</div>"
   ]
  },
  {
   "cell_type": "markdown",
   "metadata": {
    "button": false,
    "id": "I6hgqDSRG6N4",
    "new_sheet": false,
    "run_control": {
     "read_only": false
    }
   },
   "source": [
    "Imagine a telecommunications provider has segmented its customer base by service usage patterns, categorizing the customers into four groups. If demographic data can be used to predict group membership, the company can customize offers for individual prospective customers. It is a classification problem. That is, given the dataset,  with predefined labels, we need to build a model to be used to predict class of a new or unknown case. \n",
    "\n",
    "The example focuses on using demographic data, such as region, age, and marital, to predict usage patterns. \n",
    "\n",
    "The target field, called __custcat__, has four possible values that correspond to the four customer groups, as follows:\n",
    "1. Basic Service\n",
    "2. E-Service\n",
    "3. Plus Service\n",
    "4. Total Service\n",
    "\n",
    "Our objective is to build a classifier, to predict the class of unknown cases. We will use a specific type of classification called K nearest neighbour.\n"
   ]
  },
  {
   "cell_type": "markdown",
   "metadata": {
    "button": false,
    "id": "HNCFCxrEG6N-",
    "new_sheet": false,
    "run_control": {
     "read_only": false
    }
   },
   "source": [
    "### Load Data From CSV File  "
   ]
  },
  {
   "cell_type": "code",
   "execution_count": 3,
   "metadata": {
    "button": false,
    "colab": {
     "base_uri": "https://localhost:8080/",
     "height": 206
    },
    "execution": {
     "iopub.execute_input": "2022-11-17T14:45:12.035117Z",
     "iopub.status.busy": "2022-11-17T14:45:12.034757Z",
     "iopub.status.idle": "2022-11-17T14:45:13.448664Z",
     "shell.execute_reply": "2022-11-17T14:45:13.447681Z",
     "shell.execute_reply.started": "2022-11-17T14:45:12.035083Z"
    },
    "executionInfo": {
     "elapsed": 17,
     "status": "ok",
     "timestamp": 1668697476144,
     "user": {
      "displayName": "Ubaid Shah (Ghazal)",
      "userId": "14042789612785146189"
     },
     "user_tz": -330
    },
    "id": "IksFmFJoG6OA",
    "new_sheet": false,
    "outputId": "b781322a-d547-4c32-e510-fdfc662c13e9",
    "run_control": {
     "read_only": false
    }
   },
   "outputs": [
    {
     "data": {
      "text/html": [
       "<div>\n",
       "<style scoped>\n",
       "    .dataframe tbody tr th:only-of-type {\n",
       "        vertical-align: middle;\n",
       "    }\n",
       "\n",
       "    .dataframe tbody tr th {\n",
       "        vertical-align: top;\n",
       "    }\n",
       "\n",
       "    .dataframe thead th {\n",
       "        text-align: right;\n",
       "    }\n",
       "</style>\n",
       "<table border=\"1\" class=\"dataframe\">\n",
       "  <thead>\n",
       "    <tr style=\"text-align: right;\">\n",
       "      <th></th>\n",
       "      <th>region</th>\n",
       "      <th>tenure</th>\n",
       "      <th>age</th>\n",
       "      <th>marital</th>\n",
       "      <th>address</th>\n",
       "      <th>income</th>\n",
       "      <th>ed</th>\n",
       "      <th>employ</th>\n",
       "      <th>retire</th>\n",
       "      <th>gender</th>\n",
       "      <th>reside</th>\n",
       "      <th>custcat</th>\n",
       "    </tr>\n",
       "  </thead>\n",
       "  <tbody>\n",
       "    <tr>\n",
       "      <th>0</th>\n",
       "      <td>2</td>\n",
       "      <td>13</td>\n",
       "      <td>44</td>\n",
       "      <td>1</td>\n",
       "      <td>9</td>\n",
       "      <td>64.0</td>\n",
       "      <td>4</td>\n",
       "      <td>5</td>\n",
       "      <td>0.0</td>\n",
       "      <td>0</td>\n",
       "      <td>2</td>\n",
       "      <td>1</td>\n",
       "    </tr>\n",
       "    <tr>\n",
       "      <th>1</th>\n",
       "      <td>3</td>\n",
       "      <td>11</td>\n",
       "      <td>33</td>\n",
       "      <td>1</td>\n",
       "      <td>7</td>\n",
       "      <td>136.0</td>\n",
       "      <td>5</td>\n",
       "      <td>5</td>\n",
       "      <td>0.0</td>\n",
       "      <td>0</td>\n",
       "      <td>6</td>\n",
       "      <td>4</td>\n",
       "    </tr>\n",
       "    <tr>\n",
       "      <th>2</th>\n",
       "      <td>3</td>\n",
       "      <td>68</td>\n",
       "      <td>52</td>\n",
       "      <td>1</td>\n",
       "      <td>24</td>\n",
       "      <td>116.0</td>\n",
       "      <td>1</td>\n",
       "      <td>29</td>\n",
       "      <td>0.0</td>\n",
       "      <td>1</td>\n",
       "      <td>2</td>\n",
       "      <td>3</td>\n",
       "    </tr>\n",
       "    <tr>\n",
       "      <th>3</th>\n",
       "      <td>2</td>\n",
       "      <td>33</td>\n",
       "      <td>33</td>\n",
       "      <td>0</td>\n",
       "      <td>12</td>\n",
       "      <td>33.0</td>\n",
       "      <td>2</td>\n",
       "      <td>0</td>\n",
       "      <td>0.0</td>\n",
       "      <td>1</td>\n",
       "      <td>1</td>\n",
       "      <td>1</td>\n",
       "    </tr>\n",
       "    <tr>\n",
       "      <th>4</th>\n",
       "      <td>2</td>\n",
       "      <td>23</td>\n",
       "      <td>30</td>\n",
       "      <td>1</td>\n",
       "      <td>9</td>\n",
       "      <td>30.0</td>\n",
       "      <td>1</td>\n",
       "      <td>2</td>\n",
       "      <td>0.0</td>\n",
       "      <td>0</td>\n",
       "      <td>4</td>\n",
       "      <td>3</td>\n",
       "    </tr>\n",
       "    <tr>\n",
       "      <th>...</th>\n",
       "      <td>...</td>\n",
       "      <td>...</td>\n",
       "      <td>...</td>\n",
       "      <td>...</td>\n",
       "      <td>...</td>\n",
       "      <td>...</td>\n",
       "      <td>...</td>\n",
       "      <td>...</td>\n",
       "      <td>...</td>\n",
       "      <td>...</td>\n",
       "      <td>...</td>\n",
       "      <td>...</td>\n",
       "    </tr>\n",
       "    <tr>\n",
       "      <th>295</th>\n",
       "      <td>2</td>\n",
       "      <td>50</td>\n",
       "      <td>52</td>\n",
       "      <td>0</td>\n",
       "      <td>30</td>\n",
       "      <td>214.0</td>\n",
       "      <td>3</td>\n",
       "      <td>22</td>\n",
       "      <td>0.0</td>\n",
       "      <td>0</td>\n",
       "      <td>1</td>\n",
       "      <td>4</td>\n",
       "    </tr>\n",
       "    <tr>\n",
       "      <th>296</th>\n",
       "      <td>2</td>\n",
       "      <td>28</td>\n",
       "      <td>40</td>\n",
       "      <td>0</td>\n",
       "      <td>7</td>\n",
       "      <td>64.0</td>\n",
       "      <td>1</td>\n",
       "      <td>19</td>\n",
       "      <td>0.0</td>\n",
       "      <td>0</td>\n",
       "      <td>1</td>\n",
       "      <td>3</td>\n",
       "    </tr>\n",
       "    <tr>\n",
       "      <th>297</th>\n",
       "      <td>3</td>\n",
       "      <td>34</td>\n",
       "      <td>51</td>\n",
       "      <td>0</td>\n",
       "      <td>8</td>\n",
       "      <td>50.0</td>\n",
       "      <td>4</td>\n",
       "      <td>14</td>\n",
       "      <td>0.0</td>\n",
       "      <td>0</td>\n",
       "      <td>1</td>\n",
       "      <td>1</td>\n",
       "    </tr>\n",
       "    <tr>\n",
       "      <th>298</th>\n",
       "      <td>1</td>\n",
       "      <td>48</td>\n",
       "      <td>32</td>\n",
       "      <td>0</td>\n",
       "      <td>2</td>\n",
       "      <td>88.0</td>\n",
       "      <td>3</td>\n",
       "      <td>9</td>\n",
       "      <td>0.0</td>\n",
       "      <td>0</td>\n",
       "      <td>1</td>\n",
       "      <td>4</td>\n",
       "    </tr>\n",
       "    <tr>\n",
       "      <th>299</th>\n",
       "      <td>2</td>\n",
       "      <td>42</td>\n",
       "      <td>36</td>\n",
       "      <td>1</td>\n",
       "      <td>8</td>\n",
       "      <td>86.0</td>\n",
       "      <td>2</td>\n",
       "      <td>15</td>\n",
       "      <td>0.0</td>\n",
       "      <td>1</td>\n",
       "      <td>2</td>\n",
       "      <td>2</td>\n",
       "    </tr>\n",
       "  </tbody>\n",
       "</table>\n",
       "<p>300 rows × 12 columns</p>\n",
       "</div>"
      ],
      "text/plain": [
       "     region  tenure  age  marital  address  income  ed  employ  retire  \\\n",
       "0         2      13   44        1        9    64.0   4       5     0.0   \n",
       "1         3      11   33        1        7   136.0   5       5     0.0   \n",
       "2         3      68   52        1       24   116.0   1      29     0.0   \n",
       "3         2      33   33        0       12    33.0   2       0     0.0   \n",
       "4         2      23   30        1        9    30.0   1       2     0.0   \n",
       "..      ...     ...  ...      ...      ...     ...  ..     ...     ...   \n",
       "295       2      50   52        0       30   214.0   3      22     0.0   \n",
       "296       2      28   40        0        7    64.0   1      19     0.0   \n",
       "297       3      34   51        0        8    50.0   4      14     0.0   \n",
       "298       1      48   32        0        2    88.0   3       9     0.0   \n",
       "299       2      42   36        1        8    86.0   2      15     0.0   \n",
       "\n",
       "     gender  reside  custcat  \n",
       "0         0       2        1  \n",
       "1         0       6        4  \n",
       "2         1       2        3  \n",
       "3         1       1        1  \n",
       "4         0       4        3  \n",
       "..      ...     ...      ...  \n",
       "295       0       1        4  \n",
       "296       0       1        3  \n",
       "297       0       1        1  \n",
       "298       0       1        4  \n",
       "299       1       2        2  \n",
       "\n",
       "[300 rows x 12 columns]"
      ]
     },
     "execution_count": 3,
     "metadata": {},
     "output_type": "execute_result"
    }
   ],
   "source": [
    "df = pd.read_csv(\"teleCustomer.csv\")\n",
    "df.head(300)"
   ]
  },
  {
   "cell_type": "markdown",
   "metadata": {
    "button": false,
    "id": "4Dd9D9-IG6OC",
    "new_sheet": false,
    "run_control": {
     "read_only": false
    }
   },
   "source": [
    "<div id=\"visualization_analysis\">\n",
    "    <h2>Data Visualization and Analysis</h2> \n",
    "</div>\n"
   ]
  },
  {
   "cell_type": "code",
   "execution_count": 8,
   "metadata": {
    "colab": {
     "base_uri": "https://localhost:8080/"
    },
    "execution": {
     "iopub.execute_input": "2022-11-17T14:45:13.450287Z",
     "iopub.status.busy": "2022-11-17T14:45:13.449935Z",
     "iopub.status.idle": "2022-11-17T14:45:13.467041Z",
     "shell.execute_reply": "2022-11-17T14:45:13.465953Z",
     "shell.execute_reply.started": "2022-11-17T14:45:13.450256Z"
    },
    "executionInfo": {
     "elapsed": 772,
     "status": "ok",
     "timestamp": 1668697500749,
     "user": {
      "displayName": "Ubaid Shah (Ghazal)",
      "userId": "14042789612785146189"
     },
     "user_tz": -330
    },
    "id": "LdfFXosBG6OE",
    "outputId": "367ed663-92df-4068-852b-2a72dccf057a"
   },
   "outputs": [
    {
     "name": "stdout",
     "output_type": "stream",
     "text": [
      "<class 'pandas.core.frame.DataFrame'>\n",
      "RangeIndex: 1000 entries, 0 to 999\n",
      "Data columns (total 12 columns):\n",
      " #   Column   Non-Null Count  Dtype  \n",
      "---  ------   --------------  -----  \n",
      " 0   region   1000 non-null   int64  \n",
      " 1   tenure   1000 non-null   int64  \n",
      " 2   age      1000 non-null   int64  \n",
      " 3   marital  1000 non-null   int64  \n",
      " 4   address  1000 non-null   int64  \n",
      " 5   income   1000 non-null   float64\n",
      " 6   ed       1000 non-null   int64  \n",
      " 7   employ   1000 non-null   int64  \n",
      " 8   retire   1000 non-null   float64\n",
      " 9   gender   1000 non-null   int64  \n",
      " 10  reside   1000 non-null   int64  \n",
      " 11  custcat  1000 non-null   int64  \n",
      "dtypes: float64(2), int64(10)\n",
      "memory usage: 93.9 KB\n"
     ]
    }
   ],
   "source": [
    "df.info ()"
   ]
  },
  {
   "cell_type": "markdown",
   "metadata": {
    "button": false,
    "id": "GG41hhS-G6OF",
    "new_sheet": false,
    "run_control": {
     "read_only": false
    }
   },
   "source": [
    "#### Let’s see how many of each class is in our data set "
   ]
  },
  {
   "cell_type": "code",
   "execution_count": 9,
   "metadata": {
    "button": false,
    "colab": {
     "base_uri": "https://localhost:8080/",
     "height": 279
    },
    "execution": {
     "iopub.execute_input": "2022-11-17T14:45:13.471389Z",
     "iopub.status.busy": "2022-11-17T14:45:13.470745Z",
     "iopub.status.idle": "2022-11-17T14:45:13.660650Z",
     "shell.execute_reply": "2022-11-17T14:45:13.659637Z",
     "shell.execute_reply.started": "2022-11-17T14:45:13.471330Z"
    },
    "executionInfo": {
     "elapsed": 15,
     "status": "ok",
     "timestamp": 1668697503916,
     "user": {
      "displayName": "Ubaid Shah (Ghazal)",
      "userId": "14042789612785146189"
     },
     "user_tz": -330
    },
    "id": "QA41WHtXG6OG",
    "new_sheet": false,
    "outputId": "58a3425e-5c05-47d1-d463-31f1531912e9",
    "run_control": {
     "read_only": false
    }
   },
   "outputs": [
    {
     "data": {
      "text/plain": [
       "<Axes: >"
      ]
     },
     "execution_count": 9,
     "metadata": {},
     "output_type": "execute_result"
    },
    {
     "data": {
      "image/png": "[encoded data removed]",
      "text/plain": [
       "<Figure size 640x480 with 1 Axes>"
      ]
     },
     "metadata": {},
     "output_type": "display_data"
    }
   ],
   "source": [
    "df['custcat'].value_counts().plot.bar ()"
   ]
  },
  {
   "cell_type": "markdown",
   "metadata": {
    "button": false,
    "id": "gjvzT6ijG6OI",
    "new_sheet": false,
    "run_control": {
     "read_only": false
    }
   },
   "source": [
    "#### 281 Plus Service, 266 Basic-service, 236 Total Service, and 217 E-Service customers\n"
   ]
  },
  {
   "cell_type": "markdown",
   "metadata": {
    "id": "TRcKdSSGG6OJ"
   },
   "source": [
    "You can easily explore your data using visualization techniques:"
   ]
  },
  {
   "cell_type": "code",
   "execution_count": 12,
   "metadata": {
    "colab": {
     "base_uri": "https://localhost:8080/",
     "height": 490
    },
    "execution": {
     "iopub.execute_input": "2022-11-17T14:45:13.664775Z",
     "iopub.status.busy": "2022-11-17T14:45:13.664142Z",
     "iopub.status.idle": "2022-11-17T14:45:14.478343Z",
     "shell.execute_reply": "2022-11-17T14:45:14.477266Z",
     "shell.execute_reply.started": "2022-11-17T14:45:13.664727Z"
    },
    "executionInfo": {
     "elapsed": 1960,
     "status": "ok",
     "timestamp": 1668697515454,
     "user": {
      "displayName": "Ubaid Shah (Ghazal)",
      "userId": "14042789612785146189"
     },
     "user_tz": -330
    },
    "id": "fVM52UVYG6OK",
    "outputId": "1d2bad55-d77d-4e98-fadf-2c347429c58c"
   },
   "outputs": [
    {
     "name": "stderr",
     "output_type": "stream",
     "text": [
      "C:\\Users\\jalal\\AppData\\Local\\Temp\\ipykernel_22616\\2344952244.py:3: UserWarning: \n",
      "\n",
      "`distplot` is a deprecated function and will be removed in seaborn v0.14.0.\n",
      "\n",
      "Please adapt your code to use either `displot` (a figure-level function with\n",
      "similar flexibility) or `kdeplot` (an axes-level function for kernel density plots).\n",
      "\n",
      "For a guide to updating your code to use the new functions, please see\n",
      "https://gist.github.com/mwaskom/de44147ed2974457ad6372750bbe5751\n",
      "\n",
      "  sns.distplot (df ['income'], hist = False)\n",
      "C:\\Users\\jalal\\AppData\\Local\\Temp\\ipykernel_22616\\2344952244.py:6: UserWarning: \n",
      "\n",
      "`distplot` is a deprecated function and will be removed in seaborn v0.14.0.\n",
      "\n",
      "Please adapt your code to use either `displot` (a figure-level function with\n",
      "similar flexibility) or `kdeplot` (an axes-level function for kernel density plots).\n",
      "\n",
      "For a guide to updating your code to use the new functions, please see\n",
      "https://gist.github.com/mwaskom/de44147ed2974457ad6372750bbe5751\n",
      "\n",
      "  sns.distplot (df ['tenure'], hist = False)\n",
      "C:\\Users\\jalal\\AppData\\Local\\Temp\\ipykernel_22616\\2344952244.py:9: UserWarning: \n",
      "\n",
      "`distplot` is a deprecated function and will be removed in seaborn v0.14.0.\n",
      "\n",
      "Please adapt your code to use either `displot` (a figure-level function with\n",
      "similar flexibility) or `kdeplot` (an axes-level function for kernel density plots).\n",
      "\n",
      "For a guide to updating your code to use the new functions, please see\n",
      "https://gist.github.com/mwaskom/de44147ed2974457ad6372750bbe5751\n",
      "\n",
      "  sns.distplot (df ['age'], hist = False)\n",
      "C:\\Users\\jalal\\AppData\\Local\\Temp\\ipykernel_22616\\2344952244.py:12: UserWarning: \n",
      "\n",
      "`distplot` is a deprecated function and will be removed in seaborn v0.14.0.\n",
      "\n",
      "Please adapt your code to use either `displot` (a figure-level function with\n",
      "similar flexibility) or `kdeplot` (an axes-level function for kernel density plots).\n",
      "\n",
      "For a guide to updating your code to use the new functions, please see\n",
      "https://gist.github.com/mwaskom/de44147ed2974457ad6372750bbe5751\n",
      "\n",
      "  sns.distplot (df ['employ'], hist = False)\n",
      "C:\\Users\\jalal\\AppData\\Local\\Temp\\ipykernel_22616\\2344952244.py:15: UserWarning: \n",
      "\n",
      "`distplot` is a deprecated function and will be removed in seaborn v0.14.0.\n",
      "\n",
      "Please adapt your code to use either `displot` (a figure-level function with\n",
      "similar flexibility) or `kdeplot` (an axes-level function for kernel density plots).\n",
      "\n",
      "For a guide to updating your code to use the new functions, please see\n",
      "https://gist.github.com/mwaskom/de44147ed2974457ad6372750bbe5751\n",
      "\n",
      "  sns.distplot (df ['address'], hist = False)\n"
     ]
    },
    {
     "data": {
      "image/png": "[encoded data removed]",
      "text/plain": [
       "<Figure size 2000x400 with 5 Axes>"
      ]
     },
     "metadata": {},
     "output_type": "display_data"
    }
   ],
   "source": [
    "plt.figure (figsize = (20,4))\n",
    "plt.subplot (1,5,1)\n",
    "sns.distplot (df ['income'], hist = False)   # Using Seaborn to plot distribution plot where count is on x-axis \n",
    "                                             # and probablity of distribution is on y-axis and total area under curve \n",
    "                                             # (total probability) = 1 \n",
    "\n",
    "plt.subplot (1,5,2)\n",
    "sns.distplot (df ['tenure'], hist = False)\n",
    "\n",
    "plt.subplot (1,5,3)\n",
    "sns.distplot (df ['age'], hist = False)\n",
    "\n",
    "plt.subplot (1,5,4)\n",
    "sns.distplot (df ['employ'], hist = False)\n",
    "\n",
    "plt.subplot (1,5,5)\n",
    "sns.distplot (df ['address'], hist = False)\n",
    "\n",
    "plt.tight_layout ()"
   ]
  },
  {
   "cell_type": "code",
   "execution_count": null,
   "metadata": {
    "colab": {
     "base_uri": "https://localhost:8080/",
     "height": 478
    },
    "execution": {
     "iopub.execute_input": "2022-11-17T14:45:14.480918Z",
     "iopub.status.busy": "2022-11-17T14:45:14.479937Z",
     "iopub.status.idle": "2022-11-17T14:45:15.173660Z",
     "shell.execute_reply": "2022-11-17T14:45:15.172457Z",
     "shell.execute_reply.started": "2022-11-17T14:45:14.480871Z"
    },
    "executionInfo": {
     "elapsed": 634,
     "status": "ok",
     "timestamp": 1668697521573,
     "user": {
      "displayName": "Ubaid Shah (Ghazal)",
      "userId": "14042789612785146189"
     },
     "user_tz": -330
    },
    "id": "7BE9Zmr1G6ON",
    "outputId": "6ca83931-77ec-4e43-997b-3883f0567799"
   },
   "outputs": [
    {
     "name": "stderr",
     "output_type": "stream",
     "text": [
      "/usr/local/lib/python3.7/dist-packages/seaborn/_decorators.py:43: FutureWarning: Pass the following variable as a keyword arg: x. From version 0.12, the only valid positional argument will be `data`, and passing other arguments without an explicit keyword will result in an error or misinterpretation.\n",
      "  FutureWarning\n",
      "/usr/local/lib/python3.7/dist-packages/seaborn/_decorators.py:43: FutureWarning: Pass the following variable as a keyword arg: x. From version 0.12, the only valid positional argument will be `data`, and passing other arguments without an explicit keyword will result in an error or misinterpretation.\n",
      "  FutureWarning\n",
      "/usr/local/lib/python3.7/dist-packages/seaborn/_decorators.py:43: FutureWarning: Pass the following variable as a keyword arg: x. From version 0.12, the only valid positional argument will be `data`, and passing other arguments without an explicit keyword will result in an error or misinterpretation.\n",
      "  FutureWarning\n",
      "/usr/local/lib/python3.7/dist-packages/seaborn/_decorators.py:43: FutureWarning: Pass the following variable as a keyword arg: x. From version 0.12, the only valid positional argument will be `data`, and passing other arguments without an explicit keyword will result in an error or misinterpretation.\n",
      "  FutureWarning\n",
      "/usr/local/lib/python3.7/dist-packages/seaborn/_decorators.py:43: FutureWarning: Pass the following variable as a keyword arg: x. From version 0.12, the only valid positional argument will be `data`, and passing other arguments without an explicit keyword will result in an error or misinterpretation.\n",
      "  FutureWarning\n",
      "/usr/local/lib/python3.7/dist-packages/seaborn/_decorators.py:43: FutureWarning: Pass the following variable as a keyword arg: x. From version 0.12, the only valid positional argument will be `data`, and passing other arguments without an explicit keyword will result in an error or misinterpretation.\n",
      "  FutureWarning\n"
     ]
    },
    {
     "data": {
      "image/png": "[encoded data removed]",
      "text/plain": [
       "<Figure size 1728x288 with 6 Axes>"
      ]
     },
     "metadata": {
      "needs_background": "light"
     },
     "output_type": "display_data"
    }
   ],
   "source": [
    "plt.figure (figsize = (24,4))\n",
    "\n",
    "plt.subplot (1,6,1)\n",
    "sns.countplot (df ['ed'])\n",
    "\n",
    "plt.subplot (1,6,2)\n",
    "sns.countplot (df ['region'])\n",
    "\n",
    "plt.subplot (1,6,3)\n",
    "sns.countplot (df ['retire'])\n",
    "\n",
    "plt.subplot (1,6,4)\n",
    "sns.countplot (df ['reside'])\n",
    "\n",
    "plt.subplot (1,6,5)\n",
    "sns.countplot (df ['marital'])\n",
    "\n",
    "plt.subplot (1,6,6)\n",
    "sns.countplot (df ['gender'])\n",
    "\n",
    "plt.tight_layout ()"
   ]
  },
  {
   "cell_type": "code",
   "execution_count": null,
   "metadata": {
    "colab": {
     "base_uri": "https://localhost:8080/",
     "height": 206
    },
    "execution": {
     "iopub.execute_input": "2022-11-17T14:45:15.175343Z",
     "iopub.status.busy": "2022-11-17T14:45:15.174993Z",
     "iopub.status.idle": "2022-11-17T14:45:15.190352Z",
     "shell.execute_reply": "2022-11-17T14:45:15.189525Z",
     "shell.execute_reply.started": "2022-11-17T14:45:15.175309Z"
    },
    "executionInfo": {
     "elapsed": 865,
     "status": "ok",
     "timestamp": 1668697527963,
     "user": {
      "displayName": "Ubaid Shah (Ghazal)",
      "userId": "14042789612785146189"
     },
     "user_tz": -330
    },
    "id": "o64-lVaxG6OO",
    "outputId": "3fade101-9246-414a-937d-11e52d922f18"
   },
   "outputs": [
    {
     "data": {
      "text/html": [
       "\n",
       "  <div id=\"df-2c8d158a-f894-4777-a41d-fcf546d88df4\">\n",
       "    <div class=\"colab-df-container\">\n",
       "      <div>\n",
       "<style scoped>\n",
       "    .dataframe tbody tr th:only-of-type {\n",
       "        vertical-align: middle;\n",
       "    }\n",
       "\n",
       "    .dataframe tbody tr th {\n",
       "        vertical-align: top;\n",
       "    }\n",
       "\n",
       "    .dataframe thead th {\n",
       "        text-align: right;\n",
       "    }\n",
       "</style>\n",
       "<table border=\"1\" class=\"dataframe\">\n",
       "  <thead>\n",
       "    <tr style=\"text-align: right;\">\n",
       "      <th></th>\n",
       "      <th>region</th>\n",
       "      <th>tenure</th>\n",
       "      <th>age</th>\n",
       "      <th>marital</th>\n",
       "      <th>address</th>\n",
       "      <th>income</th>\n",
       "      <th>ed</th>\n",
       "      <th>employ</th>\n",
       "      <th>retire</th>\n",
       "      <th>gender</th>\n",
       "      <th>reside</th>\n",
       "      <th>custcat</th>\n",
       "    </tr>\n",
       "  </thead>\n",
       "  <tbody>\n",
       "    <tr>\n",
       "      <th>995</th>\n",
       "      <td>3</td>\n",
       "      <td>10</td>\n",
       "      <td>39</td>\n",
       "      <td>0</td>\n",
       "      <td>0</td>\n",
       "      <td>27.0</td>\n",
       "      <td>3</td>\n",
       "      <td>0</td>\n",
       "      <td>0.0</td>\n",
       "      <td>1</td>\n",
       "      <td>3</td>\n",
       "      <td>1</td>\n",
       "    </tr>\n",
       "    <tr>\n",
       "      <th>996</th>\n",
       "      <td>1</td>\n",
       "      <td>7</td>\n",
       "      <td>34</td>\n",
       "      <td>0</td>\n",
       "      <td>2</td>\n",
       "      <td>22.0</td>\n",
       "      <td>5</td>\n",
       "      <td>5</td>\n",
       "      <td>0.0</td>\n",
       "      <td>1</td>\n",
       "      <td>1</td>\n",
       "      <td>1</td>\n",
       "    </tr>\n",
       "    <tr>\n",
       "      <th>997</th>\n",
       "      <td>3</td>\n",
       "      <td>67</td>\n",
       "      <td>59</td>\n",
       "      <td>0</td>\n",
       "      <td>40</td>\n",
       "      <td>944.0</td>\n",
       "      <td>5</td>\n",
       "      <td>33</td>\n",
       "      <td>0.0</td>\n",
       "      <td>1</td>\n",
       "      <td>1</td>\n",
       "      <td>4</td>\n",
       "    </tr>\n",
       "    <tr>\n",
       "      <th>998</th>\n",
       "      <td>3</td>\n",
       "      <td>70</td>\n",
       "      <td>49</td>\n",
       "      <td>0</td>\n",
       "      <td>18</td>\n",
       "      <td>87.0</td>\n",
       "      <td>2</td>\n",
       "      <td>22</td>\n",
       "      <td>0.0</td>\n",
       "      <td>1</td>\n",
       "      <td>1</td>\n",
       "      <td>3</td>\n",
       "    </tr>\n",
       "    <tr>\n",
       "      <th>999</th>\n",
       "      <td>3</td>\n",
       "      <td>50</td>\n",
       "      <td>36</td>\n",
       "      <td>1</td>\n",
       "      <td>7</td>\n",
       "      <td>39.0</td>\n",
       "      <td>3</td>\n",
       "      <td>3</td>\n",
       "      <td>0.0</td>\n",
       "      <td>1</td>\n",
       "      <td>3</td>\n",
       "      <td>2</td>\n",
       "    </tr>\n",
       "  </tbody>\n",
       "</table>\n",
       "</div>\n",
       "      <button class=\"colab-df-convert\" onclick=\"convertToInteractive('df-2c8d158a-f894-4777-a41d-fcf546d88df4')\"\n",
       "              title=\"Convert this dataframe to an interactive table.\"\n",
       "              style=\"display:none;\">\n",
       "        \n",
       "  <svg xmlns=\"http://www.w3.org/2000/svg\" height=\"24px\"viewBox=\"0 0 24 24\"\n",
       "       width=\"24px\">\n",
       "    <path d=\"M0 0h24v24H0V0z\" fill=\"none\"/>\n",
       "    <path d=\"M18.56 5.44l.94 2.06.94-2.06 2.06-.94-2.06-.94-.94-2.06-.94 2.06-2.06.94zm-11 1L8.5 8.5l.94-2.06 2.06-.94-2.06-.94L8.5 2.5l-.94 2.06-2.06.94zm10 10l.94 2.06.94-2.06 2.06-.94-2.06-.94-.94-2.06-.94 2.06-2.06.94z\"/><path d=\"M17.41 7.96l-1.37-1.37c-.4-.4-.92-.59-1.43-.59-.52 0-1.04.2-1.43.59L10.3 9.45l-7.72 7.72c-.78.78-.78 2.05 0 2.83L4 21.41c.39.39.9.59 1.41.59.51 0 1.02-.2 1.41-.59l7.78-7.78 2.81-2.81c.8-.78.8-2.07 0-2.86zM5.41 20L4 18.59l7.72-7.72 1.47 1.35L5.41 20z\"/>\n",
       "  </svg>\n",
       "      </button>\n",
       "      \n",
       "  <style>\n",
       "    .colab-df-container {\n",
       "      display:flex;\n",
       "      flex-wrap:wrap;\n",
       "      gap: 12px;\n",
       "    }\n",
       "\n",
       "    .colab-df-convert {\n",
       "      background-color: #E8F0FE;\n",
       "      border: none;\n",
       "      border-radius: 50%;\n",
       "      cursor: pointer;\n",
       "      display: none;\n",
       "      fill: #1967D2;\n",
       "      height: 32px;\n",
       "      padding: 0 0 0 0;\n",
       "      width: 32px;\n",
       "    }\n",
       "\n",
       "    .colab-df-convert:hover {\n",
       "      background-color: #E2EBFA;\n",
       "      box-shadow: 0px 1px 2px rgba(60, 64, 67, 0.3), 0px 1px 3px 1px rgba(60, 64, 67, 0.15);\n",
       "      fill: #174EA6;\n",
       "    }\n",
       "\n",
       "    [theme=dark] .colab-df-convert {\n",
       "      background-color: #3B4455;\n",
       "      fill: #D2E3FC;\n",
       "    }\n",
       "\n",
       "    [theme=dark] .colab-df-convert:hover {\n",
       "      background-color: #434B5C;\n",
       "      box-shadow: 0px 1px 3px 1px rgba(0, 0, 0, 0.15);\n",
       "      filter: drop-shadow(0px 1px 2px rgba(0, 0, 0, 0.3));\n",
       "      fill: #FFFFFF;\n",
       "    }\n",
       "  </style>\n",
       "\n",
       "      <script>\n",
       "        const buttonEl =\n",
       "          document.querySelector('#df-2c8d158a-f894-4777-a41d-fcf546d88df4 button.colab-df-convert');\n",
       "        buttonEl.style.display =\n",
       "          google.colab.kernel.accessAllowed ? 'block' : 'none';\n",
       "\n",
       "        async function convertToInteractive(key) {\n",
       "          const element = document.querySelector('#df-2c8d158a-f894-4777-a41d-fcf546d88df4');\n",
       "          const dataTable =\n",
       "            await google.colab.kernel.invokeFunction('convertToInteractive',\n",
       "                                                     [key], {});\n",
       "          if (!dataTable) return;\n",
       "\n",
       "          const docLinkHtml = 'Like what you see? Visit the ' +\n",
       "            '<a target=\"_blank\" href=https://colab.research.google.com/notebooks/data_table.ipynb>data table notebook</a>'\n",
       "            + ' to learn more about interactive tables.';\n",
       "          element.innerHTML = '';\n",
       "          dataTable['output_type'] = 'display_data';\n",
       "          await google.colab.output.renderOutput(dataTable, element);\n",
       "          const docLink = document.createElement('div');\n",
       "          docLink.innerHTML = docLinkHtml;\n",
       "          element.appendChild(docLink);\n",
       "        }\n",
       "      </script>\n",
       "    </div>\n",
       "  </div>\n",
       "  "
      ],
      "text/plain": [
       "     region  tenure  age  marital  address  income  ed  employ  retire  \\\n",
       "995       3      10   39        0        0    27.0   3       0     0.0   \n",
       "996       1       7   34        0        2    22.0   5       5     0.0   \n",
       "997       3      67   59        0       40   944.0   5      33     0.0   \n",
       "998       3      70   49        0       18    87.0   2      22     0.0   \n",
       "999       3      50   36        1        7    39.0   3       3     0.0   \n",
       "\n",
       "     gender  reside  custcat  \n",
       "995       1       3        1  \n",
       "996       1       1        1  \n",
       "997       1       1        4  \n",
       "998       1       1        3  \n",
       "999       1       3        2  "
      ]
     },
     "execution_count": 8,
     "metadata": {},
     "output_type": "execute_result"
    }
   ],
   "source": [
    "df.tail ()"
   ]
  },
  {
   "cell_type": "markdown",
   "metadata": {
    "button": false,
    "id": "EsIBPvTyG6OP",
    "new_sheet": false,
    "run_control": {
     "read_only": false
    }
   },
   "source": [
    "### Feature set"
   ]
  },
  {
   "cell_type": "markdown",
   "metadata": {
    "button": false,
    "id": "PTNhW4g3G6OQ",
    "new_sheet": false,
    "run_control": {
     "read_only": false
    }
   },
   "source": [
    "Lets define feature sets, X:"
   ]
  },
  {
   "cell_type": "markdown",
   "metadata": {
    "id": "LCMqoyCDG6OQ"
   },
   "source": [
    "To use scikit-learn library, we have to convert the Pandas data frame to a Numpy array:"
   ]
  },
  {
   "cell_type": "code",
   "execution_count": 13,
   "metadata": {
    "button": false,
    "colab": {
     "base_uri": "https://localhost:8080/"
    },
    "execution": {
     "iopub.execute_input": "2022-11-17T14:45:15.192097Z",
     "iopub.status.busy": "2022-11-17T14:45:15.191807Z",
     "iopub.status.idle": "2022-11-17T14:45:15.202579Z",
     "shell.execute_reply": "2022-11-17T14:45:15.201356Z",
     "shell.execute_reply.started": "2022-11-17T14:45:15.192067Z"
    },
    "executionInfo": {
     "elapsed": 3264,
     "status": "ok",
     "timestamp": 1668697541536,
     "user": {
      "displayName": "Ubaid Shah (Ghazal)",
      "userId": "14042789612785146189"
     },
     "user_tz": -330
    },
    "id": "qrdkH1lkG6OQ",
    "new_sheet": false,
    "outputId": "d1856350-771a-4177-faf5-35ddf6df7fa1",
    "run_control": {
     "read_only": false
    }
   },
   "outputs": [
    {
     "data": {
      "text/plain": [
       "array([[ 13.,  44.,   9.,  64.,   5.,   4.,   0.],\n",
       "       [ 11.,  33.,   7., 136.,   5.,   5.,   0.],\n",
       "       [ 68.,  52.,  24., 116.,  29.,   1.,   0.],\n",
       "       [ 33.,  33.,  12.,  33.,   0.,   2.,   0.],\n",
       "       [ 23.,  30.,   9.,  30.,   2.,   1.,   0.]])"
      ]
     },
     "execution_count": 13,
     "metadata": {},
     "output_type": "execute_result"
    }
   ],
   "source": [
    "X1 = df[['tenure','age', 'address', 'income', 'employ', 'ed', 'retire']].values\n",
    "X1[0:5]\n"
   ]
  },
  {
   "cell_type": "markdown",
   "metadata": {
    "button": false,
    "id": "hhYQ2ro6G6OR",
    "new_sheet": false,
    "run_control": {
     "read_only": false
    }
   },
   "source": [
    "What are our labels?"
   ]
  },
  {
   "cell_type": "code",
   "execution_count": 16,
   "metadata": {
    "button": false,
    "colab": {
     "base_uri": "https://localhost:8080/"
    },
    "execution": {
     "iopub.execute_input": "2022-11-17T14:45:15.204462Z",
     "iopub.status.busy": "2022-11-17T14:45:15.204058Z",
     "iopub.status.idle": "2022-11-17T14:45:15.216628Z",
     "shell.execute_reply": "2022-11-17T14:45:15.215558Z",
     "shell.execute_reply.started": "2022-11-17T14:45:15.204431Z"
    },
    "executionInfo": {
     "elapsed": 613,
     "status": "ok",
     "timestamp": 1668697580025,
     "user": {
      "displayName": "Ubaid Shah (Ghazal)",
      "userId": "14042789612785146189"
     },
     "user_tz": -330
    },
    "id": "aKa-bxMIG6OS",
    "new_sheet": false,
    "outputId": "8810996c-e3d6-415a-f053-352f61f2a6d8",
    "run_control": {
     "read_only": false
    }
   },
   "outputs": [
    {
     "data": {
      "text/plain": [
       "array([1, 4, 3, 1, 3], dtype=int64)"
      ]
     },
     "execution_count": 16,
     "metadata": {},
     "output_type": "execute_result"
    }
   ],
   "source": [
    "y = df['custcat'].values\n",
    "y[0:5]"
   ]
  },
  {
   "cell_type": "markdown",
   "metadata": {
    "button": false,
    "id": "QTElGh8VG6OT",
    "new_sheet": false,
    "run_control": {
     "read_only": false
    }
   },
   "source": [
    "## Normalize Data "
   ]
  },
  {
   "cell_type": "markdown",
   "metadata": {
    "button": false,
    "id": "ap-KiuRUG6OU",
    "new_sheet": false,
    "run_control": {
     "read_only": false
    }
   },
   "source": [
    "Data Standardization give data zero mean and unit variance, it is good practice, especially for algorithms such as KNN which is based on distance of cases:\n",
    "\n",
    "This is the first step in the pipeline and is named 'Poly'. \n",
    "It uses the PolynomialFeatures transformer from scikit-learn to generate polynomial features from the input data. \n",
    "The transformer is configured with degree=2, which means it will generate polynomial features up to the second degree. \n",
    "The interaction_only parameter is set to True to include only interaction features (products of different input features), \n",
    "and include_bias is set to True to include a bias column of ones. \n",
    "The order parameter is set to 'F' to preserve the column order."
   ]
  },
  {
   "cell_type": "code",
   "execution_count": 20,
   "metadata": {
    "execution": {
     "iopub.execute_input": "2022-11-17T14:45:15.218264Z",
     "iopub.status.busy": "2022-11-17T14:45:15.217969Z",
     "iopub.status.idle": "2022-11-17T14:45:15.231034Z",
     "shell.execute_reply": "2022-11-17T14:45:15.230238Z",
     "shell.execute_reply.started": "2022-11-17T14:45:15.218235Z"
    },
    "id": "iI9iiDHbG6OV"
   },
   "outputs": [
    {
     "data": {
      "text/plain": [
       "array([[ 0.        , -1.055125  ,  0.18450456, -0.25303431, -0.12650641,\n",
       "        -0.5941226 ,  1.0877526 , -0.22207644, -0.83935033, -0.62038157,\n",
       "        -0.40040126, -0.68190739, -0.55790769, -0.20415067, -0.27174794,\n",
       "        -0.13579001, -0.5295552 ,  1.16591066, -0.22128298, -0.2087392 ,\n",
       "        -0.45619027,  0.2260719 , -0.19240795, -0.30865983,  0.08785738,\n",
       "        -0.14611391, -0.24007617, -0.19237637, -0.1964575 ],\n",
       "       [ 0.        , -1.14880563, -0.69181243, -0.4514148 ,  0.54644972,\n",
       "        -0.5941226 ,  1.9062271 , -0.22207644, -1.00798904, -0.68151525,\n",
       "        -0.29308272, -0.6975025 , -0.5160918 , -0.20415067, -0.53695412,\n",
       "         0.12931956, -0.61980033,  0.97459814, -0.22128298, -0.06963449,\n",
       "        -0.49155989,  0.19247025, -0.19240795, -0.20658397,  1.18316848,\n",
       "        -0.14611391, -0.0563069 , -0.19237637, -0.1964575 ],\n",
       "       [ 0.        ,  1.52109247,  0.82182601,  1.23481934,  0.35951747,\n",
       "         1.78752803, -1.36767088, -0.22207644,  1.55225311,  1.6950567 ,\n",
       "         0.74001982,  2.29208134, -0.33488958, -0.20415067,  1.09768037,\n",
       "         0.37413366,  1.58382188, -0.99070318, -0.22128298,  0.60813102,\n",
       "         1.84637192, -0.1771479 , -0.19240795,  0.55444831, -0.27380194,\n",
       "        -0.14611391,  0.09070851, -0.19237637, -0.1964575 ],\n",
       "       [ 0.        , -0.11831864, -0.69181243,  0.04453642, -0.41625141,\n",
       "        -1.09029981, -0.54919639, -0.22207644, -0.42219143, -0.19397412,\n",
       "        -0.35886381, -0.78327565, -0.36276684, -0.20415067, -0.27174794,\n",
       "        -0.40962028, -0.89053575, -0.74721452, -0.22128298, -0.27533188,\n",
       "        -0.61535356, -0.1771479 , -0.19240795, -0.39939394, -0.40296598,\n",
       "        -0.14611391, -0.97515324, -0.19237637, -0.1964575 ],\n",
       "       [ 0.        , -0.58672182, -0.93080797, -0.25303431, -0.44429125,\n",
       "        -0.89182893, -1.36767088, -0.22207644, -0.74413805, -0.48283078,\n",
       "        -0.42335191, -0.71153811, -0.96212803, -0.20415067, -0.47426903,\n",
       "        -0.43958781, -0.79208651, -1.37332821, -0.22128298, -0.32194676,\n",
       "        -0.55168824, -0.68117264, -0.19240795, -0.38238129, -0.4959641 ,\n",
       "        -0.14611391, -0.90164553, -0.19237637, -0.1964575 ]])"
      ]
     },
     "execution_count": 20,
     "metadata": {},
     "output_type": "execute_result"
    }
   ],
   "source": [
    "pipe = Pipeline ([('Poly', PolynomialFeatures(degree=2, interaction_only=True, include_bias=True, order='F')), ('Scaler',StandardScaler())])\n",
    "X = pipe.fit_transform (X1)\n",
    "X[0:5]"
   ]
  },
  {
   "cell_type": "markdown",
   "metadata": {
    "button": false,
    "id": "hDLtMkf-G6OX",
    "new_sheet": false,
    "run_control": {
     "read_only": false
    }
   },
   "source": [
    "### Train Test Split  \n",
    "Out of Sample Accuracy is the percentage of correct predictions that the model makes on data that that the model has NOT been trained on. Doing a train and test on the same dataset will most likely have low out-of-sample accuracy, due to the likelihood of being over-fit.\n",
    "\n",
    "It is important that our models have a high, out-of-sample accuracy, because the purpose of any model, of course, is to make correct predictions on unknown data. So how can we improve out-of-sample accuracy? One way is to use an evaluation approach called Train/Test Split.\n",
    "Train/Test Split involves splitting the dataset into training and testing sets respectively, which are mutually exclusive. After which, you train with the training set and test with the testing set. \n",
    "\n",
    "This will provide a more accurate evaluation on out-of-sample accuracy because the testing dataset is not part of the dataset that have been used to train the data. It is more realistic for real world problems.\n"
   ]
  },
  {
   "cell_type": "code",
   "execution_count": 23,
   "metadata": {
    "button": false,
    "colab": {
     "base_uri": "https://localhost:8080/"
    },
    "execution": {
     "iopub.execute_input": "2022-11-17T14:45:15.233073Z",
     "iopub.status.busy": "2022-11-17T14:45:15.232649Z",
     "iopub.status.idle": "2022-11-17T14:45:15.292203Z",
     "shell.execute_reply": "2022-11-17T14:45:15.291238Z",
     "shell.execute_reply.started": "2022-11-17T14:45:15.233029Z"
    },
    "executionInfo": {
     "elapsed": 527,
     "status": "ok",
     "timestamp": 1668697586200,
     "user": {
      "displayName": "Ubaid Shah (Ghazal)",
      "userId": "14042789612785146189"
     },
     "user_tz": -330
    },
    "id": "lzqJdkWgG6OY",
    "new_sheet": false,
    "outputId": "8095dcea-6d03-4f53-c89c-6a087dcb4ae7",
    "run_control": {
     "read_only": false
    }
   },
   "outputs": [
    {
     "name": "stdout",
     "output_type": "stream",
     "text": [
      "Train set: (800, 29) (800,)\n",
      "Test set: (200, 29) (200,)\n"
     ]
    }
   ],
   "source": [
    "from sklearn.model_selection import train_test_split\n",
    "X_train, X_test, y_train, y_test = train_test_split( X, y, test_size=0.2, random_state=4)\n",
    "print ('Train set:', X_train.shape,  y_train.shape)\n",
    "print ('Test set:', X_test.shape,  y_test.shape)"
   ]
  },
  {
   "cell_type": "markdown",
   "metadata": {
    "button": false,
    "id": "Ynw3HN5NG6OZ",
    "new_sheet": false,
    "run_control": {
     "read_only": false
    }
   },
   "source": [
    "<div id=\"classification\">\n",
    "    <h2>Classification</h2>\n",
    "</div>"
   ]
  },
  {
   "cell_type": "markdown",
   "metadata": {
    "button": false,
    "id": "TawAj4GXG6OZ",
    "new_sheet": false,
    "run_control": {
     "read_only": false
    }
   },
   "source": [
    "<h3>K nearest neighbor (KNN)</h3>"
   ]
  },
  {
   "cell_type": "markdown",
   "metadata": {
    "button": false,
    "id": "Oz3CAh6tG6Oa",
    "new_sheet": false,
    "run_control": {
     "read_only": false
    }
   },
   "source": [
    "#### Import library "
   ]
  },
  {
   "cell_type": "markdown",
   "metadata": {
    "button": false,
    "id": "piyHI8JyG6Oa",
    "new_sheet": false,
    "run_control": {
     "read_only": false
    }
   },
   "source": [
    "Classifier implementing the k-nearest neighbors vote."
   ]
  },
  {
   "cell_type": "code",
   "execution_count": 24,
   "metadata": {
    "button": false,
    "execution": {
     "iopub.execute_input": "2022-11-17T14:45:15.293831Z",
     "iopub.status.busy": "2022-11-17T14:45:15.293497Z",
     "iopub.status.idle": "2022-11-17T14:45:15.431247Z",
     "shell.execute_reply": "2022-11-17T14:45:15.430105Z",
     "shell.execute_reply.started": "2022-11-17T14:45:15.293799Z"
    },
    "id": "r9zC6SqQG6Ob",
    "new_sheet": false,
    "run_control": {
     "read_only": false
    }
   },
   "outputs": [],
   "source": [
    "from sklearn.neighbors import KNeighborsClassifier"
   ]
  },
  {
   "cell_type": "markdown",
   "metadata": {
    "button": false,
    "id": "g8l1uimQG6Ob",
    "new_sheet": false,
    "run_control": {
     "read_only": false
    }
   },
   "source": [
    "### Training\n",
    "\n",
    "Lets start the algorithm with k=4 for now:"
   ]
  },
  {
   "cell_type": "code",
   "execution_count": 25,
   "metadata": {
    "button": false,
    "execution": {
     "iopub.execute_input": "2022-11-17T14:45:15.432680Z",
     "iopub.status.busy": "2022-11-17T14:45:15.432407Z",
     "iopub.status.idle": "2022-11-17T14:45:16.309212Z",
     "shell.execute_reply": "2022-11-17T14:45:16.308296Z",
     "shell.execute_reply.started": "2022-11-17T14:45:15.432652Z"
    },
    "id": "nNa_MGiFG6Oc",
    "new_sheet": false,
    "run_control": {
     "read_only": false
    }
   },
   "outputs": [],
   "source": [
    "from sklearn import metrics\n",
    "#Train Model and Predict  \n",
    "Score = {}\n",
    "for k in range (1,50):\n",
    "    neigh = KNeighborsClassifier(n_neighbors = k).fit(X_train,y_train)\n",
    "   \n",
    "    Score.update ({k :  metrics.accuracy_score(y_test, neigh.predict (X_test))})"
   ]
  },
  {
   "cell_type": "code",
   "execution_count": 26,
   "metadata": {
    "colab": {
     "base_uri": "https://localhost:8080/"
    },
    "execution": {
     "iopub.execute_input": "2022-11-17T14:45:16.311090Z",
     "iopub.status.busy": "2022-11-17T14:45:16.310568Z",
     "iopub.status.idle": "2022-11-17T14:45:16.318973Z",
     "shell.execute_reply": "2022-11-17T14:45:16.317859Z",
     "shell.execute_reply.started": "2022-11-17T14:45:16.311054Z"
    },
    "executionInfo": {
     "elapsed": 410,
     "status": "ok",
     "timestamp": 1668697598504,
     "user": {
      "displayName": "Ubaid Shah (Ghazal)",
      "userId": "14042789612785146189"
     },
     "user_tz": -330
    },
    "id": "elYBPdVQG6Od",
    "outputId": "1642b7e4-f89e-4489-cd19-dcd41d76856c"
   },
   "outputs": [
    {
     "data": {
      "text/plain": [
       "{1: 0.34,\n",
       " 2: 0.3,\n",
       " 3: 0.355,\n",
       " 4: 0.365,\n",
       " 5: 0.355,\n",
       " 6: 0.375,\n",
       " 7: 0.34,\n",
       " 8: 0.37,\n",
       " 9: 0.38,\n",
       " 10: 0.36,\n",
       " 11: 0.37,\n",
       " 12: 0.4,\n",
       " 13: 0.405,\n",
       " 14: 0.415,\n",
       " 15: 0.395,\n",
       " 16: 0.38,\n",
       " 17: 0.415,\n",
       " 18: 0.4,\n",
       " 19: 0.415,\n",
       " 20: 0.4,\n",
       " 21: 0.37,\n",
       " 22: 0.385,\n",
       " 23: 0.365,\n",
       " 24: 0.385,\n",
       " 25: 0.4,\n",
       " 26: 0.395,\n",
       " 27: 0.42,\n",
       " 28: 0.41,\n",
       " 29: 0.43,\n",
       " 30: 0.415,\n",
       " 31: 0.43,\n",
       " 32: 0.415,\n",
       " 33: 0.41,\n",
       " 34: 0.4,\n",
       " 35: 0.42,\n",
       " 36: 0.415,\n",
       " 37: 0.41,\n",
       " 38: 0.425,\n",
       " 39: 0.42,\n",
       " 40: 0.415,\n",
       " 41: 0.435,\n",
       " 42: 0.425,\n",
       " 43: 0.415,\n",
       " 44: 0.43,\n",
       " 45: 0.42,\n",
       " 46: 0.44,\n",
       " 47: 0.455,\n",
       " 48: 0.44,\n",
       " 49: 0.43}"
      ]
     },
     "execution_count": 26,
     "metadata": {},
     "output_type": "execute_result"
    }
   ],
   "source": [
    "Score"
   ]
  },
  {
   "cell_type": "code",
   "execution_count": 27,
   "metadata": {
    "colab": {
     "base_uri": "https://localhost:8080/"
    },
    "execution": {
     "iopub.execute_input": "2022-11-17T14:56:39.791948Z",
     "iopub.status.busy": "2022-11-17T14:56:39.791447Z",
     "iopub.status.idle": "2022-11-17T14:56:39.798208Z",
     "shell.execute_reply": "2022-11-17T14:56:39.797194Z",
     "shell.execute_reply.started": "2022-11-17T14:56:39.791914Z"
    },
    "executionInfo": {
     "elapsed": 834,
     "status": "ok",
     "timestamp": 1668697602846,
     "user": {
      "displayName": "Ubaid Shah (Ghazal)",
      "userId": "14042789612785146189"
     },
     "user_tz": -330
    },
    "id": "5PSeVlGiG6Od",
    "outputId": "7a20cc51-3f29-4f6b-90aa-edd81167dcb9"
   },
   "outputs": [
    {
     "data": {
      "text/plain": [
       "47"
      ]
     },
     "execution_count": 27,
     "metadata": {},
     "output_type": "execute_result"
    }
   ],
   "source": [
    "max(Score,key=lambda x:Score[x])\n",
    "\n",
    "# Keymax = max(Score, key= lambda x: Score[x])\n",
    "# print(Keymax)"
   ]
  },
  {
   "cell_type": "code",
   "execution_count": 28,
   "metadata": {
    "colab": {
     "base_uri": "https://localhost:8080/",
     "height": 283
    },
    "execution": {
     "iopub.execute_input": "2022-11-17T14:45:16.320439Z",
     "iopub.status.busy": "2022-11-17T14:45:16.320143Z",
     "iopub.status.idle": "2022-11-17T14:45:16.504940Z",
     "shell.execute_reply": "2022-11-17T14:45:16.503801Z",
     "shell.execute_reply.started": "2022-11-17T14:45:16.320410Z"
    },
    "executionInfo": {
     "elapsed": 1648,
     "status": "ok",
     "timestamp": 1668697608070,
     "user": {
      "displayName": "Ubaid Shah (Ghazal)",
      "userId": "14042789612785146189"
     },
     "user_tz": -330
    },
    "id": "nkhWPpeEG6Oe",
    "outputId": "dbeac92d-9148-4e16-b46e-c38f811cf098"
   },
   "outputs": [
    {
     "data": {
      "text/plain": [
       "<Axes: >"
      ]
     },
     "execution_count": 28,
     "metadata": {},
     "output_type": "execute_result"
    },
    {
     "data": {
      "image/png": "[encoded data removed]",
      "text/plain": [
       "<Figure size 640x480 with 1 Axes>"
      ]
     },
     "metadata": {},
     "output_type": "display_data"
    }
   ],
   "source": [
    "pd.DataFrame (Score, index = [0]).transpose ().plot ()"
   ]
  },
  {
   "cell_type": "markdown",
   "metadata": {
    "button": false,
    "id": "ZV-o1V1YG6Of",
    "new_sheet": false,
    "run_control": {
     "read_only": false
    }
   },
   "source": [
    "### Predicting\n",
    "we can use the model to predict the test set:"
   ]
  },
  {
   "cell_type": "code",
   "execution_count": 30,
   "metadata": {
    "button": false,
    "colab": {
     "base_uri": "https://localhost:8080/"
    },
    "execution": {
     "iopub.execute_input": "2022-11-17T14:45:16.506943Z",
     "iopub.status.busy": "2022-11-17T14:45:16.506487Z",
     "iopub.status.idle": "2022-11-17T14:45:16.534999Z",
     "shell.execute_reply": "2022-11-17T14:45:16.534223Z",
     "shell.execute_reply.started": "2022-11-17T14:45:16.506891Z"
    },
    "executionInfo": {
     "elapsed": 718,
     "status": "ok",
     "timestamp": 1668697620916,
     "user": {
      "displayName": "Ubaid Shah (Ghazal)",
      "userId": "14042789612785146189"
     },
     "user_tz": -330
    },
    "id": "KpxhRMGlG6Of",
    "new_sheet": false,
    "outputId": "b6e8ba7a-96c5-4781-c07e-cf92587b00fb",
    "run_control": {
     "read_only": false
    }
   },
   "outputs": [
    {
     "data": {
      "text/plain": [
       "array([1, 1, 4, 4, 4], dtype=int64)"
      ]
     },
     "execution_count": 30,
     "metadata": {},
     "output_type": "execute_result"
    }
   ],
   "source": [
    "neigh = KNeighborsClassifier(n_neighbors = 47).fit(X_train,y_train)\n",
    "yhat = neigh.predict(X_test)\n",
    "yhat[0:5]"
   ]
  },
  {
   "cell_type": "markdown",
   "metadata": {
    "button": false,
    "id": "8GeRtolfG6Og",
    "new_sheet": false,
    "run_control": {
     "read_only": false
    }
   },
   "source": [
    "### Accuracy evaluation\n",
    "In multilabel classification, __accuracy classification score__ is a function that computes subset accuracy. This function is equal to the jaccard_similarity_score function. Essentially, it calculates how closely the actual labels and predicted labels are matched in the test set."
   ]
  },
  {
   "cell_type": "code",
   "execution_count": null,
   "metadata": {
    "execution": {
     "iopub.execute_input": "2022-11-17T14:45:16.536464Z",
     "iopub.status.busy": "2022-11-17T14:45:16.536026Z",
     "iopub.status.idle": "2022-11-17T14:45:16.540445Z",
     "shell.execute_reply": "2022-11-17T14:45:16.539582Z",
     "shell.execute_reply.started": "2022-11-17T14:45:16.536433Z"
    },
    "id": "1sdGTcWkG6Og"
   },
   "outputs": [],
   "source": [
    "from sklearn import metrics\n",
    "from sklearn.metrics import classification_report, confusion_matrix, accuracy_score"
   ]
  },
  {
   "cell_type": "code",
   "execution_count": null,
   "metadata": {
    "colab": {
     "base_uri": "https://localhost:8080/"
    },
    "execution": {
     "iopub.execute_input": "2022-11-17T14:45:16.542001Z",
     "iopub.status.busy": "2022-11-17T14:45:16.541524Z",
     "iopub.status.idle": "2022-11-17T14:45:16.556071Z",
     "shell.execute_reply": "2022-11-17T14:45:16.555327Z",
     "shell.execute_reply.started": "2022-11-17T14:45:16.541968Z"
    },
    "executionInfo": {
     "elapsed": 5,
     "status": "ok",
     "timestamp": 1668697625312,
     "user": {
      "displayName": "Ubaid Shah (Ghazal)",
      "userId": "14042789612785146189"
     },
     "user_tz": -330
    },
    "id": "-2FndYmIG6Oh",
    "outputId": "2468920b-0163-45fd-b8f4-94bbfedac475"
   },
   "outputs": [
    {
     "name": "stdout",
     "output_type": "stream",
     "text": [
      "[[34  6 19 16]\n",
      " [ 1 16  4 13]\n",
      " [12 13 26  7]\n",
      " [ 4  9  5 15]]\n"
     ]
    }
   ],
   "source": [
    "print (confusion_matrix (yhat, y_test))"
   ]
  },
  {
   "cell_type": "code",
   "execution_count": null,
   "metadata": {
    "colab": {
     "base_uri": "https://localhost:8080/"
    },
    "execution": {
     "iopub.execute_input": "2022-11-17T14:45:16.557919Z",
     "iopub.status.busy": "2022-11-17T14:45:16.557425Z",
     "iopub.status.idle": "2022-11-17T14:45:16.568758Z",
     "shell.execute_reply": "2022-11-17T14:45:16.567996Z",
     "shell.execute_reply.started": "2022-11-17T14:45:16.557886Z"
    },
    "executionInfo": {
     "elapsed": 8,
     "status": "ok",
     "timestamp": 1668697627169,
     "user": {
      "displayName": "Ubaid Shah (Ghazal)",
      "userId": "14042789612785146189"
     },
     "user_tz": -330
    },
    "id": "IUmZPeSXG6Oh",
    "outputId": "4e1d185c-83bf-46ce-b16b-73701ad9f8d5"
   },
   "outputs": [
    {
     "name": "stdout",
     "output_type": "stream",
     "text": [
      "              precision    recall  f1-score   support\n",
      "\n",
      "           1       0.67      0.45      0.54        75\n",
      "           2       0.36      0.47      0.41        34\n",
      "           3       0.48      0.45      0.46        58\n",
      "           4       0.29      0.45      0.36        33\n",
      "\n",
      "    accuracy                           0.46       200\n",
      "   macro avg       0.45      0.46      0.44       200\n",
      "weighted avg       0.50      0.46      0.47       200\n",
      "\n"
     ]
    }
   ],
   "source": [
    "print (classification_report (yhat, y_test))"
   ]
  },
  {
   "cell_type": "markdown",
   "metadata": {
    "button": false,
    "id": "FfwNtGZPG6Oi",
    "new_sheet": false,
    "run_control": {
     "read_only": false
    }
   },
   "source": [
    "#### What about other K?\n",
    "K in KNN, is the number of nearest neighbors to examine. It is supposed to be specified by the User. So, how can we choose right value for K?\n",
    "The general solution is to reserve a part of your data for testing the accuracy of the model. Then chose k =1, use the training part for modeling, and calculate the accuracy of prediction using all samples in your test set. Repeat this process, increasing the k, and see which k is the best for your model.\n",
    "\n",
    "We can calculate the accuracy of KNN for different Ks."
   ]
  },
  {
   "cell_type": "code",
   "execution_count": null,
   "metadata": {
    "button": false,
    "colab": {
     "base_uri": "https://localhost:8080/"
    },
    "execution": {
     "iopub.execute_input": "2022-11-17T14:45:16.571241Z",
     "iopub.status.busy": "2022-11-17T14:45:16.570716Z",
     "iopub.status.idle": "2022-11-17T14:45:17.272221Z",
     "shell.execute_reply": "2022-11-17T14:45:17.271082Z",
     "shell.execute_reply.started": "2022-11-17T14:45:16.571193Z"
    },
    "executionInfo": {
     "elapsed": 668,
     "status": "ok",
     "timestamp": 1668697633257,
     "user": {
      "displayName": "Ubaid Shah (Ghazal)",
      "userId": "14042789612785146189"
     },
     "user_tz": -330
    },
    "id": "dOTlHFpCG6Oj",
    "new_sheet": false,
    "outputId": "ccdf46ca-edda-4719-d376-d1f610d7d285",
    "run_control": {
     "read_only": false
    }
   },
   "outputs": [
    {
     "data": {
      "text/plain": [
       "array([0.34 , 0.3  , 0.355, 0.365, 0.355, 0.375, 0.34 , 0.37 , 0.38 ,\n",
       "       0.36 , 0.37 , 0.4  , 0.405, 0.415, 0.395, 0.38 , 0.415, 0.4  ,\n",
       "       0.415, 0.4  , 0.37 , 0.385, 0.365, 0.385, 0.4  , 0.395, 0.42 ,\n",
       "       0.41 , 0.43 , 0.415, 0.43 , 0.415, 0.41 , 0.4  , 0.42 , 0.415,\n",
       "       0.41 , 0.425, 0.42 ])"
      ]
     },
     "execution_count": 26,
     "metadata": {},
     "output_type": "execute_result"
    }
   ],
   "source": [
    "Ks = 40\n",
    "mean_acc = np.zeros((Ks-1))\n",
    "std_acc = np.zeros((Ks-1))\n",
    "ConfustionMx = [];\n",
    "for n in range(1,Ks):\n",
    "    \n",
    "    #Train Model and Predict  \n",
    "    neigh = KNeighborsClassifier(n_neighbors = n).fit(X_train,y_train)\n",
    "    yhat=neigh.predict(X_test)\n",
    "    mean_acc[n-1] = metrics.accuracy_score(y_test, yhat)\n",
    "\n",
    "    \n",
    "    std_acc[n-1]=np.std(yhat==y_test)/np.sqrt(yhat.shape[0])\n",
    "\n",
    "mean_acc"
   ]
  },
  {
   "cell_type": "markdown",
   "metadata": {
    "button": false,
    "id": "6peNz_d_G6Ok",
    "new_sheet": false,
    "run_control": {
     "read_only": false
    }
   },
   "source": [
    "#### Plot  model accuracy  for Different number of Neighbors "
   ]
  },
  {
   "cell_type": "code",
   "execution_count": null,
   "metadata": {
    "button": false,
    "colab": {
     "base_uri": "https://localhost:8080/",
     "height": 297
    },
    "execution": {
     "iopub.execute_input": "2022-11-17T14:45:17.274472Z",
     "iopub.status.busy": "2022-11-17T14:45:17.273999Z",
     "iopub.status.idle": "2022-11-17T14:45:17.478895Z",
     "shell.execute_reply": "2022-11-17T14:45:17.477823Z",
     "shell.execute_reply.started": "2022-11-17T14:45:17.274428Z"
    },
    "executionInfo": {
     "elapsed": 755,
     "status": "ok",
     "timestamp": 1668697639215,
     "user": {
      "displayName": "Ubaid Shah (Ghazal)",
      "userId": "14042789612785146189"
     },
     "user_tz": -330
    },
    "id": "ZDVUKa4GG6Ok",
    "jupyter": {
     "source_hidden": true
    },
    "new_sheet": false,
    "outputId": "d5967f7e-3621-41b6-dbdb-813fde16b41e",
    "run_control": {
     "read_only": false
    }
   },
   "outputs": [
    {
     "data": {
      "image/png": "[encoded data removed]",
      "text/plain": [
       "<Figure size 432x288 with 1 Axes>"
      ]
     },
     "metadata": {
      "needs_background": "light"
     },
     "output_type": "display_data"
    }
   ],
   "source": [
    "plt.plot(range(1,Ks),mean_acc,'g')\n",
    "plt.fill_between(range(1,Ks),mean_acc - 1 * std_acc,mean_acc + 1 * std_acc, alpha=0.10)\n",
    "plt.legend(('Accuracy ', '+/- 3xstd'))\n",
    "plt.ylabel('Accuracy ')\n",
    "plt.xlabel('Number of Nabors (K)')\n",
    "plt.tight_layout()\n",
    "plt.show()"
   ]
  },
  {
   "cell_type": "code",
   "execution_count": null,
   "metadata": {
    "execution": {
     "iopub.execute_input": "2022-11-17T14:50:50.972278Z",
     "iopub.status.busy": "2022-11-17T14:50:50.971874Z",
     "iopub.status.idle": "2022-11-17T14:50:51.646479Z",
     "shell.execute_reply": "2022-11-17T14:50:51.645589Z",
     "shell.execute_reply.started": "2022-11-17T14:50:50.972243Z"
    },
    "id": "11U3lkUMG6Ol"
   },
   "outputs": [],
   "source": [
    "error_rate = []\n",
    "\n",
    "# Will take some time\n",
    "for i in range(1,40):\n",
    "    \n",
    "    knn = KNeighborsClassifier(n_neighbors=i)\n",
    "    knn.fit(X_train,y_train)\n",
    "    pred_i = knn.predict(X_test)\n",
    "    error_rate.append(np.mean(pred_i != y_test))\n",
    "\n"
   ]
  },
  {
   "cell_type": "code",
   "execution_count": null,
   "metadata": {
    "colab": {
     "base_uri": "https://localhost:8080/"
    },
    "execution": {
     "iopub.execute_input": "2022-11-17T14:59:55.096231Z",
     "iopub.status.busy": "2022-11-17T14:59:55.095818Z",
     "iopub.status.idle": "2022-11-17T14:59:55.104091Z",
     "shell.execute_reply": "2022-11-17T14:59:55.102879Z",
     "shell.execute_reply.started": "2022-11-17T14:59:55.096191Z"
    },
    "executionInfo": {
     "elapsed": 8,
     "status": "ok",
     "timestamp": 1668697651577,
     "user": {
      "displayName": "Ubaid Shah (Ghazal)",
      "userId": "14042789612785146189"
     },
     "user_tz": -330
    },
    "id": "1RZnthbQG6Om",
    "outputId": "29d9f075-1944-4060-b2c6-f014ce2a809f"
   },
   "outputs": [
    {
     "data": {
      "text/plain": [
       "{28: 0.57}"
      ]
     },
     "execution_count": 30,
     "metadata": {},
     "output_type": "execute_result"
    }
   ],
   "source": [
    "{error_rate.index(min(error_rate)):min(error_rate)}"
   ]
  },
  {
   "cell_type": "code",
   "execution_count": null,
   "metadata": {
    "colab": {
     "base_uri": "https://localhost:8080/",
     "height": 439
    },
    "execution": {
     "iopub.execute_input": "2022-11-17T14:51:26.261783Z",
     "iopub.status.busy": "2022-11-17T14:51:26.261138Z",
     "iopub.status.idle": "2022-11-17T14:51:26.437448Z",
     "shell.execute_reply": "2022-11-17T14:51:26.436510Z",
     "shell.execute_reply.started": "2022-11-17T14:51:26.261742Z"
    },
    "executionInfo": {
     "elapsed": 1852,
     "status": "ok",
     "timestamp": 1668697844548,
     "user": {
      "displayName": "Ubaid Shah (Ghazal)",
      "userId": "14042789612785146189"
     },
     "user_tz": -330
    },
    "id": "9osvHsTHG6On",
    "outputId": "d5415203-a1d3-4eb0-d9ce-25fef63e8a4d"
   },
   "outputs": [
    {
     "name": "stdout",
     "output_type": "stream",
     "text": [
      "\n",
      "{29: 0.57}\n"
     ]
    },
    {
     "data": {
      "image/png": "[encoded data removed]",
      "text/plain": [
       "<Figure size 1440x432 with 1 Axes>"
      ]
     },
     "metadata": {
      "needs_background": "light"
     },
     "output_type": "display_data"
    }
   ],
   "source": [
    "plt.figure(figsize=(20,6))\n",
    "plt.plot(range(1,40),error_rate,color='blue', linestyle='dashed', marker='o',\n",
    "         markerfacecolor='red', markersize=10)\n",
    "plt.title('Error Rate vs. K Value')\n",
    "plt.xlabel('K')\n",
    "plt.ylabel('Error Rate')\n",
    "plt.xticks(range(1,40))\n",
    "\n",
    "print()\n",
    "\n",
    "print({error_rate.index(min(error_rate))+1:min(error_rate)})"
   ]
  },
  {
   "cell_type": "code",
   "execution_count": null,
   "metadata": {
    "button": false,
    "colab": {
     "base_uri": "https://localhost:8080/"
    },
    "execution": {
     "iopub.execute_input": "2022-11-17T14:45:17.480482Z",
     "iopub.status.busy": "2022-11-17T14:45:17.480194Z",
     "iopub.status.idle": "2022-11-17T14:45:17.485991Z",
     "shell.execute_reply": "2022-11-17T14:45:17.485303Z",
     "shell.execute_reply.started": "2022-11-17T14:45:17.480454Z"
    },
    "executionInfo": {
     "elapsed": 470,
     "status": "ok",
     "timestamp": 1668697701917,
     "user": {
      "displayName": "Ubaid Shah (Ghazal)",
      "userId": "14042789612785146189"
     },
     "user_tz": -330
    },
    "id": "KpzMoKggG6Op",
    "new_sheet": false,
    "outputId": "181248cd-998b-4e68-bb40-9a3f15172c52",
    "run_control": {
     "read_only": false
    }
   },
   "outputs": [
    {
     "name": "stdout",
     "output_type": "stream",
     "text": [
      "The best accuracy was with 0.43 with k= 29\n"
     ]
    }
   ],
   "source": [
    "print( \"The best accuracy was with\", mean_acc.max(), \"with k=\", mean_acc.argmax()+1) "
   ]
  }
 ],
 "metadata": {
  "colab": {
   "provenance": []
  },
  "kernelspec": {
   "display_name": "Python 3 (ipykernel)",
   "language": "python",
   "name": "python3"
  },
  "language_info": {
   "codemirror_mode": {
    "name": "ipython",
    "version": 3
   },
   "file_extension": ".py",
   "mimetype": "text/x-python",
   "name": "python",
   "nbconvert_exporter": "python",
   "pygments_lexer": "ipython3",
   "version": "3.10.11"
  }
 },
 "nbformat": 4,
 "nbformat_minor": 1
}
