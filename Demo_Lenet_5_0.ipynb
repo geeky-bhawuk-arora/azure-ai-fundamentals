{
  "cells": [
    {
      "cell_type": "markdown",
      "metadata": {
        "id": "view-in-github",
        "colab_type": "text"
      },
      "source": [
        "<a href=\"https://colab.research.google.com/github/geeky-bhawuk-arora/azure-ai-fundamentals/blob/main/Demo_Lenet_5_0.ipynb\" target=\"_parent\"><img src=\"https://colab.research.google.com/assets/colab-badge.svg\" alt=\"Open In Colab\"/></a>"
      ]
    },
    {
      "cell_type": "code",
      "execution_count": null,
      "metadata": {
        "id": "k9N8V1q2LqDK"
      },
      "outputs": [],
      "source": [
        "import tensorflow as tf\n",
        "from tensorflow.keras import layers, models, callbacks\n"
      ]
    },
    {
      "cell_type": "code",
      "execution_count": null,
      "metadata": {
        "id": "wUKfKnYBL92F",
        "colab": {
          "base_uri": "https://localhost:8080/"
        },
        "outputId": "20ebe6f8-ea27-42cd-c6fd-41d3740142c2"
      },
      "outputs": [
        {
          "output_type": "stream",
          "name": "stdout",
          "text": [
            "Downloading data from https://storage.googleapis.com/tensorflow/tf-keras-datasets/mnist.npz\n",
            "\u001b[1m11490434/11490434\u001b[0m \u001b[32m━━━━━━━━━━━━━━━━━━━━\u001b[0m\u001b[37m\u001b[0m \u001b[1m0s\u001b[0m 0us/step\n"
          ]
        }
      ],
      "source": [
        "# Load and preprocess the MNIST dataset\n",
        "(x_train, y_train), (x_test, y_test) = tf.keras.datasets.mnist.load_data()\n",
        "x_train = x_train.astype('float32') / 255.0\n",
        "x_test = x_test.astype('float32') / 255.0\n",
        "x_train = x_train.reshape(-1, 28, 28, 1)\n",
        "x_test = x_test.reshape(-1, 28, 28, 1)"
      ]
    },
    {
      "cell_type": "markdown",
      "metadata": {
        "id": "ET-b0ukyNdyp"
      },
      "source": [
        "# Define the LeNet-5 architecture with direct print statements"
      ]
    },
    {
      "cell_type": "code",
      "execution_count": null,
      "metadata": {
        "id": "Wj9HhxDvMBJM"
      },
      "outputs": [],
      "source": [
        "def create_lenet5_model():\n",
        "    model = models.Sequential()\n",
        "\n",
        "    # C1: Convolutional Layer with 6 filters, 5x5 kernel, and 'same' padding\n",
        "    model.add(layers.Conv2D(6, (5, 5), padding='same', activation='tanh', input_shape=(28, 28, 1)))\n",
        "    # Print the shape after Conv2D\n",
        "    print(\"C1 shape:\", model.output_shape)\n",
        "    print(\"C1 trainable parameters:\", model.layers[-1].count_params())\n",
        "\n",
        "    # S2: Average Pooling Layer with 2x2 pool size\n",
        "    model.add(layers.AveragePooling2D(pool_size=(2, 2)))\n",
        "    # Print the shape after AveragePooling2D\n",
        "    print(\"S2 shape:\", model.output_shape)\n",
        "\n",
        "    # C3: Convolutional Layer with 16 filters, 5x5 kernel, and 'valid' padding\n",
        "    model.add(layers.Conv2D(16, (5, 5), activation='tanh'))\n",
        "    # Print the shape after Conv2D\n",
        "    print(\"C3 shape:\", model.output_shape)\n",
        "    print(\"C3 trainable parameters:\", model.layers[-1].count_params())\n",
        "\n",
        "    # S4: Average Pooling Layer with 2x2 pool size\n",
        "    model.add(layers.AveragePooling2D(pool_size=(2, 2)))\n",
        "    # Print the shape after AveragePooling2D\n",
        "    print(\"S4 shape:\", model.output_shape)\n",
        "\n",
        "    # Flatten the output from the convolutional layers\n",
        "    model.add(layers.Flatten())\n",
        "    # Print the shape after Flatten\n",
        "    print(\"Flatten shape:\", model.output_shape)\n",
        "\n",
        "    # FC6: Fully Connected Layer with 84 units ANN\n",
        "    model.add(layers.Dense(84, activation='tanh'))\n",
        "    # Print the shape after Dense\n",
        "    print(\"FC6 shape:\", model.output_shape)\n",
        "    print(\"FC6 trainable parameters:\", model.layers[-1].count_params())  #33600 + 84\n",
        "\n",
        "    # Output Layer with 10 units (for 10 classes) and softmax activation\n",
        "    model.add(layers.Dense(10, activation='softmax')) # 840 + 10\n",
        "    # Print the shape after Dense    # total trainalble parameter= 37106\n",
        "    print(\"Output shape:\", model.output_shape)\n",
        "    print(\"Output trainable parameters:\", model.layers[-1].count_params())\n",
        "\n",
        "    return model"
      ]
    },
    {
      "cell_type": "code",
      "execution_count": null,
      "metadata": {
        "colab": {
          "base_uri": "https://localhost:8080/"
        },
        "id": "flF7OgEYME9C",
        "outputId": "e346b3d4-a502-403b-e633-aaf0c1e45ff3"
      },
      "outputs": [
        {
          "output_type": "stream",
          "name": "stdout",
          "text": [
            "C1 shape: (None, 28, 28, 6)\n",
            "C1 trainable parameters: 156\n",
            "S2 shape: (None, 14, 14, 6)\n",
            "C3 shape: (None, 10, 10, 16)\n",
            "C3 trainable parameters: 2416\n",
            "S4 shape: (None, 5, 5, 16)\n",
            "Flatten shape: (None, 400)\n",
            "FC6 shape: (None, 84)\n",
            "FC6 trainable parameters: 33684\n",
            "Output shape: (None, 10)\n",
            "Output trainable parameters: 850\n"
          ]
        },
        {
          "output_type": "stream",
          "name": "stderr",
          "text": [
            "/usr/local/lib/python3.10/dist-packages/keras/src/layers/convolutional/base_conv.py:107: UserWarning: Do not pass an `input_shape`/`input_dim` argument to a layer. When using Sequential models, prefer using an `Input(shape)` object as the first layer in the model instead.\n",
            "  super().__init__(activity_regularizer=activity_regularizer, **kwargs)\n"
          ]
        }
      ],
      "source": [
        "\n",
        "# Create and compile the model\n",
        "model = create_lenet5_model()\n",
        "model.compile(optimizer='adam',\n",
        "              loss='sparse_categorical_crossentropy',\n",
        "              metrics=['accuracy'])\n"
      ]
    },
    {
      "cell_type": "code",
      "execution_count": null,
      "metadata": {
        "colab": {
          "base_uri": "https://localhost:8080/"
        },
        "id": "FhQJlKuYMGfE",
        "outputId": "d33e25f0-502b-497f-ce90-6a5bab643bbf"
      },
      "outputs": [
        {
          "output_type": "stream",
          "name": "stdout",
          "text": [
            "Epoch 1/5\n",
            "\u001b[1m844/844\u001b[0m \u001b[32m━━━━━━━━━━━━━━━━━━━━\u001b[0m\u001b[37m\u001b[0m \u001b[1m33s\u001b[0m 37ms/step - accuracy: 0.8323 - loss: 0.5807 - val_accuracy: 0.9643 - val_loss: 0.1238\n",
            "Epoch 2/5\n",
            "\u001b[1m844/844\u001b[0m \u001b[32m━━━━━━━━━━━━━━━━━━━━\u001b[0m\u001b[37m\u001b[0m \u001b[1m33s\u001b[0m 39ms/step - accuracy: 0.9615 - loss: 0.1308 - val_accuracy: 0.9777 - val_loss: 0.0809\n",
            "Epoch 3/5\n",
            "\u001b[1m844/844\u001b[0m \u001b[32m━━━━━━━━━━━━━━━━━━━━\u001b[0m\u001b[37m\u001b[0m \u001b[1m42s\u001b[0m 39ms/step - accuracy: 0.9746 - loss: 0.0844 - val_accuracy: 0.9790 - val_loss: 0.0686\n",
            "Epoch 4/5\n",
            "\u001b[1m844/844\u001b[0m \u001b[32m━━━━━━━━━━━━━━━━━━━━\u001b[0m\u001b[37m\u001b[0m \u001b[1m41s\u001b[0m 39ms/step - accuracy: 0.9822 - loss: 0.0619 - val_accuracy: 0.9840 - val_loss: 0.0537\n",
            "Epoch 5/5\n",
            "\u001b[1m844/844\u001b[0m \u001b[32m━━━━━━━━━━━━━━━━━━━━\u001b[0m\u001b[37m\u001b[0m \u001b[1m46s\u001b[0m 45ms/step - accuracy: 0.9861 - loss: 0.0469 - val_accuracy: 0.9852 - val_loss: 0.0493\n"
          ]
        },
        {
          "output_type": "execute_result",
          "data": {
            "text/plain": [
              "<keras.src.callbacks.history.History at 0x7f230a586c50>"
            ]
          },
          "metadata": {},
          "execution_count": 5
        }
      ],
      "source": [
        "\n",
        "# Train the model\n",
        "model.fit(x_train, y_train, epochs=5, batch_size=64, validation_split=0.1)\n"
      ]
    },
    {
      "cell_type": "code",
      "execution_count": null,
      "metadata": {
        "colab": {
          "base_uri": "https://localhost:8080/"
        },
        "id": "_g-Dg0ezMICy",
        "outputId": "98b07d3d-df0a-4de2-ce03-ebaec9482fc4"
      },
      "outputs": [
        {
          "output_type": "stream",
          "name": "stdout",
          "text": [
            "\u001b[1m313/313\u001b[0m \u001b[32m━━━━━━━━━━━━━━━━━━━━\u001b[0m\u001b[37m\u001b[0m \u001b[1m3s\u001b[0m 8ms/step - accuracy: 0.9802 - loss: 0.0556\n",
            "Test accuracy: 0.9838\n"
          ]
        }
      ],
      "source": [
        "\n",
        "# Evaluate the model\n",
        "test_loss, test_acc = model.evaluate(x_test, y_test)\n",
        "print(f'Test accuracy: {test_acc:.4f}')\n"
      ]
    }
  ],
  "metadata": {
    "colab": {
      "provenance": [],
      "include_colab_link": true
    },
    "kernelspec": {
      "display_name": "Python 3",
      "name": "python3"
    },
    "language_info": {
      "name": "python"
    }
  },
  "nbformat": 4,
  "nbformat_minor": 0
}